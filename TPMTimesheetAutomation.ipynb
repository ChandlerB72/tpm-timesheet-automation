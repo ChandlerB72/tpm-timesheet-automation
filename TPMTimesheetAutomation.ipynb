{
 "cells": [
  {
   "cell_type": "code",
   "execution_count": 1,
   "metadata": {},
   "outputs": [],
   "source": [
    "import base64\n",
    "import getpass\n",
    "import datetime\n",
    "import os\n",
    "from selenium import webdriver\n",
    "from selenium.webdriver.common.keys import Keys"
   ]
  },
  {
   "cell_type": "code",
   "execution_count": 2,
   "metadata": {},
   "outputs": [],
   "source": [
    "# Access the chrome webdriver and open the browser to the microsoft login page\n",
    "# Note: Chrome instance DOES know it is being automated\n",
    "driver = webdriver.Chrome('./chromedriver')\n",
    "driver.get(\"https://timesheet.amsoftware.com/EApplications/esecurity/Login.jsp\")"
   ]
  },
  {
   "cell_type": "code",
   "execution_count": 3,
   "metadata": {},
   "outputs": [],
   "source": [
    "# Attempt to gather the username and password from a file\n",
    "if os.path.exists(\"creds.dat\"):\n",
    "    try:\n",
    "        # Attempts to gather username/password from file, otherwise requires user input \n",
    "        credentials = open(\"creds.dat\", \"rb+\") \n",
    "        \n",
    "        for line in credentials:\n",
    "            # Simple decrypt of credentials\n",
    "            cred = base64.b64decode(line).decode()\n",
    "            \n",
    "            username = cred.split(\":\")[0]\n",
    "            password = cred.split(\":\")[1]\n",
    "    except:\n",
    "        # Once the else functionality is made into a function, can use that function here\n",
    "        print(\"broke\")\n",
    "else:\n",
    "    # If no file exists, manually gather username/password\n",
    "    username = input(\"Enter your username: \")\n",
    "    password = getpass.getpass(\"Enter your password: \")\n",
    "\n",
    "    with open(\"creds.dat\",\"wb\") as file:\n",
    "        fullCred = username + ':' + password\n",
    "        file.write(base64.b64encode(fullCred.encode()))"
   ]
  },
  {
   "cell_type": "code",
   "execution_count": 4,
   "metadata": {},
   "outputs": [],
   "source": [
    "# Fills in credentials and logs in\n",
    "userField = driver.find_element_by_name(\"UserId\")\n",
    "passField = driver.find_element_by_name(\"Password\")\n",
    "\n",
    "userField.send_keys(username)\n",
    "passField.send_keys(password)\n",
    "\n",
    "driver.find_element_by_class_name('standardbutton').click()"
   ]
  },
  {
   "cell_type": "code",
   "execution_count": 5,
   "metadata": {},
   "outputs": [],
   "source": [
    "# Navigate to TimeSheet menu\n",
    "driver.get(\"https://timesheet.amsoftware.com/EApplications/etimesheet/TimeSheetMenu.jsp\")"
   ]
  },
  {
   "cell_type": "code",
   "execution_count": 6,
   "metadata": {},
   "outputs": [],
   "source": [
    "# Insert the data for the next Saturday and create a new timesheet\n",
    "dateField = driver.find_element_by_name(\"WEDate\")\n",
    "\n",
    "nextSunday = datetime.date.today()\n",
    "\n",
    "# Finds the closest Saturday\n",
    "while nextSunday.weekday() != 5:\n",
    "    nextSunday += datetime.timedelta(1)\n",
    "\n",
    "# String prep for input\n",
    "nextSunday = '{0}/{1}/{2}'.format(nextSunday.month, nextSunday.day, nextSunday.year)\n",
    "    \n",
    "dateField.send_keys(str(nextSunday))\n",
    "    \n",
    "buttons = driver.find_elements_by_class_name('StandardButton')\n",
    "buttons[1].click()"
   ]
  },
  {
   "cell_type": "code",
   "execution_count": 7,
   "metadata": {},
   "outputs": [],
   "source": [
    "# Contract Information\n",
    "jobField = driver.find_element_by_name('ContractNumber1')\n",
    "jobField.send_keys('10325P0001')\n",
    "\n",
    "driver.find_element_by_xpath('//*[@id=\"ActivityCode1\"]').click()\n",
    "driver.find_element_by_xpath('//*[@id=\"ActivityCode1\"]/option[2]').click()"
   ]
  },
  {
   "cell_type": "code",
   "execution_count": 8,
   "metadata": {},
   "outputs": [],
   "source": [
    "time = driver.find_elements_by_class_name('input5')[0]\n",
    "\n",
    "# Shitty way of changing the entire chunk of values\n",
    "driver.execute_script(\"document.getElementById('HoursMon1').setAttribute('value', '8')\")\n",
    "driver.execute_script(\"document.getElementById('HoursTue1').setAttribute('value', '8')\")\n",
    "driver.execute_script(\"document.getElementById('HoursWed1').setAttribute('value', '8')\")\n",
    "driver.execute_script(\"document.getElementById('HoursThu1').setAttribute('value', '8')\")\n",
    "driver.execute_script(\"document.getElementById('HoursFri1').setAttribute('value', '8')\")\n",
    "\n",
    "# Submit\n",
    "#driver.execute_script(\"document.getElementById('HoursFri1').setAttribute('value', '8')\")"
   ]
  }
 ],
 "metadata": {
  "kernelspec": {
   "display_name": "Python 3",
   "language": "python",
   "name": "python3"
  },
  "language_info": {
   "codemirror_mode": {
    "name": "ipython",
    "version": 3
   },
   "file_extension": ".py",
   "mimetype": "text/x-python",
   "name": "python",
   "nbconvert_exporter": "python",
   "pygments_lexer": "ipython3",
   "version": "3.7.3"
  }
 },
 "nbformat": 4,
 "nbformat_minor": 2
}
